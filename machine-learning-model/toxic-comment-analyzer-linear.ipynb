{
 "cells": [
  {
   "cell_type": "code",
   "execution_count": 16,
   "id": "d79442c8",
   "metadata": {
    "scrolled": true
   },
   "outputs": [],
   "source": [
    "# Import necessary libraries\n",
    "import pandas as pd\n",
    "from sklearn.model_selection import train_test_split\n",
    "from sklearn.feature_extraction.text import TfidfVectorizer\n",
    "from sklearn.linear_model import LogisticRegression\n",
    "from sklearn.pipeline import Pipeline\n",
    "from sklearn.multioutput import MultiOutputClassifier\n",
    "\n",
    "# Load the training dataset\n",
    "train_df = pd.read_csv('train_preprocessed.csv')\n",
    "\n",
    "# Handle missing values in the training dataset\n",
    "train_df.fillna(\"\", inplace=True)\n",
    "\n",
    "# Define the features and labels for the training dataset\n",
    "X_train = train_df['comment_text']\n",
    "y_train = train_df[['identity_hate', 'insult', 'obscene', 'severe_toxic', 'threat', 'toxic']]\n",
    "\n",
    "# Preprocess the training text data using TF-IDF\n",
    "vectorizer = TfidfVectorizer(max_features=5000)\n",
    "X_train_vec = vectorizer.fit_transform(X_train)\n",
    "\n",
    "# Load the testing dataset\n",
    "test_df = pd.read_csv('test_preprocessed.csv')\n",
    "\n",
    "# Handle missing values in the testing dataset\n",
    "test_df.fillna(\"\", inplace=True)\n",
    "\n",
    "# Define the features for the testing dataset\n",
    "X_test = test_df['comment_text']\n",
    "\n",
    "# Preprocess the test text data using TF-IDF\n",
    "X_test_vec = vectorizer.transform(X_test)\n",
    "\n",
    "# Define the pipeline\n",
    "pipeline = Pipeline([\n",
    "    ('clf', MultiOutputClassifier(LogisticRegression()))\n",
    "])"
   ]
  },
  {
   "cell_type": "code",
   "execution_count": 17,
   "id": "cd0e99be",
   "metadata": {},
   "outputs": [
    {
     "data": {
      "text/html": [
       "<style>#sk-container-id-3 {color: black;background-color: white;}#sk-container-id-3 pre{padding: 0;}#sk-container-id-3 div.sk-toggleable {background-color: white;}#sk-container-id-3 label.sk-toggleable__label {cursor: pointer;display: block;width: 100%;margin-bottom: 0;padding: 0.3em;box-sizing: border-box;text-align: center;}#sk-container-id-3 label.sk-toggleable__label-arrow:before {content: \"▸\";float: left;margin-right: 0.25em;color: #696969;}#sk-container-id-3 label.sk-toggleable__label-arrow:hover:before {color: black;}#sk-container-id-3 div.sk-estimator:hover label.sk-toggleable__label-arrow:before {color: black;}#sk-container-id-3 div.sk-toggleable__content {max-height: 0;max-width: 0;overflow: hidden;text-align: left;background-color: #f0f8ff;}#sk-container-id-3 div.sk-toggleable__content pre {margin: 0.2em;color: black;border-radius: 0.25em;background-color: #f0f8ff;}#sk-container-id-3 input.sk-toggleable__control:checked~div.sk-toggleable__content {max-height: 200px;max-width: 100%;overflow: auto;}#sk-container-id-3 input.sk-toggleable__control:checked~label.sk-toggleable__label-arrow:before {content: \"▾\";}#sk-container-id-3 div.sk-estimator input.sk-toggleable__control:checked~label.sk-toggleable__label {background-color: #d4ebff;}#sk-container-id-3 div.sk-label input.sk-toggleable__control:checked~label.sk-toggleable__label {background-color: #d4ebff;}#sk-container-id-3 input.sk-hidden--visually {border: 0;clip: rect(1px 1px 1px 1px);clip: rect(1px, 1px, 1px, 1px);height: 1px;margin: -1px;overflow: hidden;padding: 0;position: absolute;width: 1px;}#sk-container-id-3 div.sk-estimator {font-family: monospace;background-color: #f0f8ff;border: 1px dotted black;border-radius: 0.25em;box-sizing: border-box;margin-bottom: 0.5em;}#sk-container-id-3 div.sk-estimator:hover {background-color: #d4ebff;}#sk-container-id-3 div.sk-parallel-item::after {content: \"\";width: 100%;border-bottom: 1px solid gray;flex-grow: 1;}#sk-container-id-3 div.sk-label:hover label.sk-toggleable__label {background-color: #d4ebff;}#sk-container-id-3 div.sk-serial::before {content: \"\";position: absolute;border-left: 1px solid gray;box-sizing: border-box;top: 0;bottom: 0;left: 50%;z-index: 0;}#sk-container-id-3 div.sk-serial {display: flex;flex-direction: column;align-items: center;background-color: white;padding-right: 0.2em;padding-left: 0.2em;position: relative;}#sk-container-id-3 div.sk-item {position: relative;z-index: 1;}#sk-container-id-3 div.sk-parallel {display: flex;align-items: stretch;justify-content: center;background-color: white;position: relative;}#sk-container-id-3 div.sk-item::before, #sk-container-id-3 div.sk-parallel-item::before {content: \"\";position: absolute;border-left: 1px solid gray;box-sizing: border-box;top: 0;bottom: 0;left: 50%;z-index: -1;}#sk-container-id-3 div.sk-parallel-item {display: flex;flex-direction: column;z-index: 1;position: relative;background-color: white;}#sk-container-id-3 div.sk-parallel-item:first-child::after {align-self: flex-end;width: 50%;}#sk-container-id-3 div.sk-parallel-item:last-child::after {align-self: flex-start;width: 50%;}#sk-container-id-3 div.sk-parallel-item:only-child::after {width: 0;}#sk-container-id-3 div.sk-dashed-wrapped {border: 1px dashed gray;margin: 0 0.4em 0.5em 0.4em;box-sizing: border-box;padding-bottom: 0.4em;background-color: white;}#sk-container-id-3 div.sk-label label {font-family: monospace;font-weight: bold;display: inline-block;line-height: 1.2em;}#sk-container-id-3 div.sk-label-container {text-align: center;}#sk-container-id-3 div.sk-container {/* jupyter's `normalize.less` sets `[hidden] { display: none; }` but bootstrap.min.css set `[hidden] { display: none !important; }` so we also need the `!important` here to be able to override the default hidden behavior on the sphinx rendered scikit-learn.org. See: https://github.com/scikit-learn/scikit-learn/issues/21755 */display: inline-block !important;position: relative;}#sk-container-id-3 div.sk-text-repr-fallback {display: none;}</style><div id=\"sk-container-id-3\" class=\"sk-top-container\"><div class=\"sk-text-repr-fallback\"><pre>Pipeline(steps=[(&#x27;clf&#x27;, MultiOutputClassifier(estimator=LogisticRegression()))])</pre><b>In a Jupyter environment, please rerun this cell to show the HTML representation or trust the notebook. <br />On GitHub, the HTML representation is unable to render, please try loading this page with nbviewer.org.</b></div><div class=\"sk-container\" hidden><div class=\"sk-item sk-dashed-wrapped\"><div class=\"sk-label-container\"><div class=\"sk-label sk-toggleable\"><input class=\"sk-toggleable__control sk-hidden--visually\" id=\"sk-estimator-id-7\" type=\"checkbox\" ><label for=\"sk-estimator-id-7\" class=\"sk-toggleable__label sk-toggleable__label-arrow\">Pipeline</label><div class=\"sk-toggleable__content\"><pre>Pipeline(steps=[(&#x27;clf&#x27;, MultiOutputClassifier(estimator=LogisticRegression()))])</pre></div></div></div><div class=\"sk-serial\"><div class=\"sk-item sk-dashed-wrapped\"><div class=\"sk-label-container\"><div class=\"sk-label sk-toggleable\"><input class=\"sk-toggleable__control sk-hidden--visually\" id=\"sk-estimator-id-8\" type=\"checkbox\" ><label for=\"sk-estimator-id-8\" class=\"sk-toggleable__label sk-toggleable__label-arrow\">clf: MultiOutputClassifier</label><div class=\"sk-toggleable__content\"><pre>MultiOutputClassifier(estimator=LogisticRegression())</pre></div></div></div><div class=\"sk-parallel\"><div class=\"sk-parallel-item\"><div class=\"sk-item\"><div class=\"sk-label-container\"><div class=\"sk-label sk-toggleable\"><input class=\"sk-toggleable__control sk-hidden--visually\" id=\"sk-estimator-id-9\" type=\"checkbox\" ><label for=\"sk-estimator-id-9\" class=\"sk-toggleable__label sk-toggleable__label-arrow\">estimator: LogisticRegression</label><div class=\"sk-toggleable__content\"><pre>LogisticRegression()</pre></div></div></div><div class=\"sk-serial\"><div class=\"sk-item\"><div class=\"sk-estimator sk-toggleable\"><input class=\"sk-toggleable__control sk-hidden--visually\" id=\"sk-estimator-id-10\" type=\"checkbox\" ><label for=\"sk-estimator-id-10\" class=\"sk-toggleable__label sk-toggleable__label-arrow\">LogisticRegression</label><div class=\"sk-toggleable__content\"><pre>LogisticRegression()</pre></div></div></div></div></div></div></div></div></div></div></div></div>"
      ],
      "text/plain": [
       "Pipeline(steps=[('clf', MultiOutputClassifier(estimator=LogisticRegression()))])"
      ]
     },
     "execution_count": 17,
     "metadata": {},
     "output_type": "execute_result"
    }
   ],
   "source": [
    "# Train the model\n",
    "pipeline.fit(X_train_vec, y_train)\n"
   ]
  },
  {
   "cell_type": "code",
   "execution_count": 80,
   "id": "4df6fc9b",
   "metadata": {},
   "outputs": [
    {
     "name": "stdout",
     "output_type": "stream",
     "text": [
      "        identity_hate  insult  obscene  severe_toxic  threat  toxic\n",
      "0                   0       1        1             0       0      1\n",
      "1                   0       0        0             0       0      0\n",
      "2                   0       0        0             0       0      0\n",
      "3                   0       0        0             0       0      0\n",
      "4                   0       0        0             0       0      0\n",
      "...               ...     ...      ...           ...     ...    ...\n",
      "153159              0       0        0             0       0      1\n",
      "153160              0       0        0             0       0      0\n",
      "153161              0       0        0             0       0      0\n",
      "153162              0       0        0             0       0      0\n",
      "153163              0       1        1             0       0      1\n",
      "\n",
      "[153164 rows x 6 columns]\n"
     ]
    }
   ],
   "source": [
    "# Predict on the test data\n",
    "y_test_pred = pipeline.predict(X_test_vec)\n",
    "\n",
    "# Convert the predictions to a DataFrame for easier handling\n",
    "y_pred_df = pd.DataFrame(y_test_pred, columns=y_train.columns)\n",
    "\n",
    "# Display the predictions\n",
    "print(y_pred_df)"
   ]
  },
  {
   "cell_type": "code",
   "execution_count": 79,
   "id": "738b93a8",
   "metadata": {},
   "outputs": [
    {
     "name": "stdout",
     "output_type": "stream",
     "text": [
      "identity_hate: 0\n",
      "insult: 1\n",
      "obscene: 1\n",
      "severe_toxic: 1\n",
      "threat: 0\n",
      "toxic: 1\n"
     ]
    }
   ],
   "source": [
    "# Define a new comment\n",
    "new_comment = [\"fuck you you fucking\"]\n",
    "\n",
    "# Transform the comment using the TfidfVectorizer\n",
    "new_comment_vec = vectorizer.transform(new_comment)\n",
    "\n",
    "# Use the trained model to predict the labels for the comment\n",
    "new_comment_pred = pipeline.predict(new_comment_vec)\n",
    "\n",
    "# Define the labels\n",
    "labels = ['identity_hate', 'insult', 'obscene', 'severe_toxic', 'threat', 'toxic']\n",
    "\n",
    "# Format and print the predictions\n",
    "for i, label in enumerate(labels):\n",
    "    print(f\"{label}: {new_comment_pred[0][i]}\")\n",
    "\n",
    "\n"
   ]
  },
  {
   "cell_type": "code",
   "execution_count": 89,
   "id": "8a9a3427",
   "metadata": {},
   "outputs": [
    {
     "name": "stdout",
     "output_type": "stream",
     "text": [
      "identity_hate: 0\n",
      "insult: 1\n",
      "obscene: 1\n",
      "severe_toxic: 1\n",
      "threat: 1\n",
      "toxic: 1\n",
      "0.8909090909090909\n"
     ]
    }
   ],
   "source": [
    "# Define a new comment\n",
    "new_comment = [\"Hello guys today I'm going to kill you i hope your family gets cancer and dies and you live alone you piece of shit suck my cock bitch\"]\n",
    "\n",
    "# Transform the comment using the TfidfVectorizer\n",
    "new_comment_vec = vectorizer.transform(new_comment)\n",
    "\n",
    "# Use the trained model to predict the labels for the comment\n",
    "new_comment_pred = pipeline.predict(new_comment_vec)\n",
    "\n",
    "# Remove the 'toxic' label\n",
    "new_comment_pred_without_toxic = new_comment_pred[0][:-1]\n",
    "\n",
    "# Define weights for the remaining labels\n",
    "weights = [3, 1, 1, 3, 3]  # 'identity_hate', 'insult', 'obscene', 'severe_toxic', 'threat'\n",
    "\n",
    "# Check if there is at least one label with a prediction of 1\n",
    "has_toxic_label = any(label_pred == 1 for label_pred in new_comment_pred_without_toxic)\n",
    "\n",
    "if has_toxic_label:\n",
    "    # make sure the toxicity score is at least 0.6\n",
    "    # also the np.average does not go over 0.6\n",
    "    toxicity_score = 0.6 + np.average(new_comment_pred_without_toxic, weights=weights) * 0.4\n",
    "else:\n",
    "    toxicity_score = 0\n",
    "\n",
    "\n",
    "# Format and print the predictions\n",
    "for i, label in enumerate(labels):\n",
    "    print(f\"{label}: {new_comment_pred[0][i]}\")\n",
    "\n",
    "# Print the toxicity score\n",
    "print(toxicity_score)\n"
   ]
  }
 ],
 "metadata": {
  "kernelspec": {
   "display_name": "Python 3",
   "language": "python",
   "name": "python3"
  },
  "language_info": {
   "codemirror_mode": {
    "name": "ipython",
    "version": 3
   },
   "file_extension": ".py",
   "mimetype": "text/x-python",
   "name": "python",
   "nbconvert_exporter": "python",
   "pygments_lexer": "ipython3",
   "version": "3.10.11"
  },
  "vscode": {
   "interpreter": {
    "hash": "376ccaa28ee2953a7ac31dbdff3c4b9ab965cb5bc7cf0a9a69303ebb3593ef65"
   }
  }
 },
 "nbformat": 4,
 "nbformat_minor": 5
}
